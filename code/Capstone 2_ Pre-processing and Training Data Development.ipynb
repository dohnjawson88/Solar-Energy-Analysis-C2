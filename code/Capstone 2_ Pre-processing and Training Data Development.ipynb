{
 "cells": [
  {
   "cell_type": "markdown",
   "metadata": {},
   "source": [
    "###### Import Libraries"
   ]
  },
  {
   "cell_type": "code",
   "execution_count": 1,
   "metadata": {},
   "outputs": [
    {
     "name": "stderr",
     "output_type": "stream",
     "text": [
      "/opt/anaconda3/lib/python3.8/site-packages/sklearn/utils/deprecation.py:143: FutureWarning: The sklearn.datasets.samples_generator module is  deprecated in version 0.22 and will be removed in version 0.24. The corresponding classes / functions should instead be imported from sklearn.datasets. Anything that cannot be imported from sklearn.datasets is now part of the private API.\n",
      "  warnings.warn(message, FutureWarning)\n"
     ]
    }
   ],
   "source": [
    "import pandas as pd\n",
    "\n",
    "import numpy as np\n",
    "\n",
    "import collections\n",
    "from collections import Counter #keeps track of how many times equivalent values are added\n",
    "\n",
    "import missingno as msno\n",
    "\n",
    "import matplotlib.pyplot as plt\n",
    "%matplotlib inline\n",
    "\n",
    "import seaborn as sns\n",
    "sns.set() #It gives your charts a seaborn background by default\n",
    "\n",
    "\n",
    "from sklearn.datasets.samples_generator import make_blobs\n",
    "from sklearn.cluster import KMeans\n",
    "\n",
    "import statsmodels.formula.api as smf #module that provides classes and functions for the estimation of many different statistical models\n",
    "import statsmodels.api as sm\n",
    "\n",
    "import warnings\n",
    "warnings.filterwarnings('ignore')"
   ]
  },
  {
   "cell_type": "markdown",
   "metadata": {},
   "source": [
    "#### Load Data"
   ]
  },
  {
   "cell_type": "code",
   "execution_count": 2,
   "metadata": {},
   "outputs": [
    {
     "name": "stdout",
     "output_type": "stream",
     "text": [
      "<class 'pandas.core.frame.DataFrame'>\n",
      "RangeIndex: 71804 entries, 0 to 71803\n",
      "Data columns (total 14 columns):\n",
      " #   Column                 Non-Null Count  Dtype  \n",
      "---  ------                 --------------  -----  \n",
      " 0   Unnamed: 0             71804 non-null  int64  \n",
      " 1   DATE_TIME              71804 non-null  object \n",
      " 2   IRRADIATION            71804 non-null  float64\n",
      " 3   AMBIENT_TEMPERATURE_F  71804 non-null  float64\n",
      " 4   MODULE_TEMPERATURE_F   71804 non-null  float64\n",
      " 5   DC_POWER               71804 non-null  float64\n",
      " 6   AC_POWER               71804 non-null  float64\n",
      " 7   TIME                   71804 non-null  object \n",
      " 8   HOUR                   71804 non-null  int64  \n",
      " 9   DC_ZERO_POWER          71804 non-null  float64\n",
      " 10  DC/AC_RATIO            71804 non-null  float64\n",
      " 11  HOURLY_DC_AVG          71804 non-null  float64\n",
      " 12  DAILY_YIELD_AVG        71804 non-null  float64\n",
      " 13  INVERTER_FAILURE       71804 non-null  float64\n",
      "dtypes: float64(10), int64(2), object(2)\n",
      "memory usage: 7.7+ MB\n",
      "None \n",
      "\n",
      "________________________________________________________________________________ \n",
      "\n",
      "<class 'pandas.core.frame.DataFrame'>\n",
      "RangeIndex: 71804 entries, 0 to 71803\n",
      "Data columns (total 14 columns):\n",
      " #   Column                 Non-Null Count  Dtype  \n",
      "---  ------                 --------------  -----  \n",
      " 0   Unnamed: 0             71804 non-null  int64  \n",
      " 1   DATE_TIME              71804 non-null  object \n",
      " 2   IRRADIATION            71804 non-null  float64\n",
      " 3   AMBIENT_TEMPERATURE_F  71804 non-null  float64\n",
      " 4   MODULE_TEMPERATURE_F   71804 non-null  float64\n",
      " 5   DC_POWER               71804 non-null  float64\n",
      " 6   AC_POWER               71804 non-null  float64\n",
      " 7   TIME                   71804 non-null  object \n",
      " 8   HOUR                   71804 non-null  int64  \n",
      " 9   DC_ZERO_POWER          71804 non-null  float64\n",
      " 10  DC/AC_RATIO            71804 non-null  float64\n",
      " 11  HOURLY_DC_AVG          71804 non-null  float64\n",
      " 12  DAILY_YIELD_AVG        71804 non-null  float64\n",
      " 13  INVERTER_FAILURE       71804 non-null  float64\n",
      "dtypes: float64(10), int64(2), object(2)\n",
      "memory usage: 7.7+ MB\n",
      "None \n",
      "\n",
      "________________________________________________________________________________ \n",
      "\n"
     ]
    }
   ],
   "source": [
    "# Read csv files\n",
    "\n",
    "#Plant 1 Cleansed DataFrame\n",
    "Plant1 = pd.read_csv('Plant1_EDA.csv')\n",
    "\n",
    "#Plant 2 Cleansed DataFrame\n",
    "Plant2 = pd.read_csv('Plant1_EDA.csv')\n",
    "\n",
    "\n",
    "# Preview the first 5 lines of the loaded data \n",
    "for df in [Plant1, Plant2]:\n",
    "    print(df.info(), \"\\n\")\n",
    "    print(\"_\"*80, \"\\n\")"
   ]
  },
  {
   "cell_type": "code",
   "execution_count": 3,
   "metadata": {},
   "outputs": [],
   "source": [
    "#drop Unnamed: 0 column\n",
    "\n",
    "Plant1 = Plant1.drop(columns=['Unnamed: 0'])\n",
    "Plant2 = Plant2.drop(columns=['Unnamed: 0'])\n"
   ]
  },
  {
   "cell_type": "code",
   "execution_count": 4,
   "metadata": {},
   "outputs": [
    {
     "name": "stdout",
     "output_type": "stream",
     "text": [
      "<class 'pandas.core.frame.DataFrame'>\n",
      "RangeIndex: 71804 entries, 0 to 71803\n",
      "Data columns (total 13 columns):\n",
      " #   Column                 Non-Null Count  Dtype  \n",
      "---  ------                 --------------  -----  \n",
      " 0   DATE_TIME              71804 non-null  object \n",
      " 1   IRRADIATION            71804 non-null  float64\n",
      " 2   AMBIENT_TEMPERATURE_F  71804 non-null  float64\n",
      " 3   MODULE_TEMPERATURE_F   71804 non-null  float64\n",
      " 4   DC_POWER               71804 non-null  float64\n",
      " 5   AC_POWER               71804 non-null  float64\n",
      " 6   TIME                   71804 non-null  object \n",
      " 7   HOUR                   71804 non-null  int64  \n",
      " 8   DC_ZERO_POWER          71804 non-null  float64\n",
      " 9   DC/AC_RATIO            71804 non-null  float64\n",
      " 10  HOURLY_DC_AVG          71804 non-null  float64\n",
      " 11  DAILY_YIELD_AVG        71804 non-null  float64\n",
      " 12  INVERTER_FAILURE       71804 non-null  float64\n",
      "dtypes: float64(10), int64(1), object(2)\n",
      "memory usage: 7.1+ MB\n",
      "None \n",
      "\n",
      "******************************************************************************** \n",
      "\n",
      "<class 'pandas.core.frame.DataFrame'>\n",
      "RangeIndex: 71804 entries, 0 to 71803\n",
      "Data columns (total 13 columns):\n",
      " #   Column                 Non-Null Count  Dtype  \n",
      "---  ------                 --------------  -----  \n",
      " 0   DATE_TIME              71804 non-null  object \n",
      " 1   IRRADIATION            71804 non-null  float64\n",
      " 2   AMBIENT_TEMPERATURE_F  71804 non-null  float64\n",
      " 3   MODULE_TEMPERATURE_F   71804 non-null  float64\n",
      " 4   DC_POWER               71804 non-null  float64\n",
      " 5   AC_POWER               71804 non-null  float64\n",
      " 6   TIME                   71804 non-null  object \n",
      " 7   HOUR                   71804 non-null  int64  \n",
      " 8   DC_ZERO_POWER          71804 non-null  float64\n",
      " 9   DC/AC_RATIO            71804 non-null  float64\n",
      " 10  HOURLY_DC_AVG          71804 non-null  float64\n",
      " 11  DAILY_YIELD_AVG        71804 non-null  float64\n",
      " 12  INVERTER_FAILURE       71804 non-null  float64\n",
      "dtypes: float64(10), int64(1), object(2)\n",
      "memory usage: 7.1+ MB\n",
      "None \n",
      "\n",
      "******************************************************************************** \n",
      "\n"
     ]
    }
   ],
   "source": [
    "#Validate drop\n",
    "\n",
    "for df in [Plant1, Plant2]:\n",
    "    print(df.info(), \"\\n\")\n",
    "    print(\"*\"*80, \"\\n\")"
   ]
  },
  {
   "cell_type": "code",
   "execution_count": null,
   "metadata": {},
   "outputs": [],
   "source": [
    "The goal of identifying features is to use your exploratory work to isolate features that will be most helpful in constructing a predictive model."
   ]
  },
  {
   "cell_type": "code",
   "execution_count": null,
   "metadata": {},
   "outputs": [],
   "source": []
  }
 ],
 "metadata": {
  "kernelspec": {
   "display_name": "Python 3",
   "language": "python",
   "name": "python3"
  },
  "language_info": {
   "codemirror_mode": {
    "name": "ipython",
    "version": 3
   },
   "file_extension": ".py",
   "mimetype": "text/x-python",
   "name": "python",
   "nbconvert_exporter": "python",
   "pygments_lexer": "ipython3",
   "version": "3.8.5"
  }
 },
 "nbformat": 4,
 "nbformat_minor": 4
}
